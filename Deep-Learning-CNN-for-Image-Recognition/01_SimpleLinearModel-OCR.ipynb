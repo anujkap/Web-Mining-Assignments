{
 "cells": [
  {
   "cell_type": "markdown",
   "metadata": {},
   "source": [
    "# Simple Linear Model - OCR\n",
    "By Gaetano Bonofiglio, Veronica Iovinella\n",
    "\n",
    "Adopted by: Jacob John, Rajdeepa\n",
    "\n",
    "## Introduction\n",
    "We'll start by developing a simple linear model for classification of handwritten digits (OCR) using MNIST data-set and then plot the results. This will later be compared with a Convolutional Neural Network for the same task.\n",
    "\n",
    "## Imports\n",
    "Helper functions are in [util.py](util.py)."
   ]
  },
  {
   "cell_type": "code",
   "execution_count": 9,
   "metadata": {},
   "outputs": [
    {
     "data": {
      "text/plain": [
       "'1.10.0'"
      ]
     },
     "execution_count": 9,
     "metadata": {},
     "output_type": "execute_result"
    }
   ],
   "source": [
    "from IPython import get_ipython\n",
    "get_ipython().run_line_magic('matplotlib', 'inline')\n",
    "import tensorflow as tf\n",
    "import numpy as np\n",
    "\n",
    "from util import Util\n",
    "u = Util()\n",
    "\n",
    "tf.__version__"
   ]
  },
  {
   "cell_type": "markdown",
   "metadata": {},
   "source": [
    "## Data Load\n",
    "The MNIST data-set is about 12 MB and will be downloaded automatically if it is not located in the given path."
   ]
  },
  {
   "cell_type": "code",
   "execution_count": 10,
   "metadata": {},
   "outputs": [
    {
     "name": "stdout",
     "output_type": "stream",
     "text": [
      "WARNING:tensorflow:From <ipython-input-10-d748032e7ab8>:2: read_data_sets (from tensorflow.contrib.learn.python.learn.datasets.mnist) is deprecated and will be removed in a future version.\n",
      "Instructions for updating:\n",
      "Please use alternatives such as official/mnist/dataset.py from tensorflow/models.\n",
      "WARNING:tensorflow:From /Users/jacobjohn/anaconda3/lib/python3.6/site-packages/tensorflow/contrib/learn/python/learn/datasets/mnist.py:260: maybe_download (from tensorflow.contrib.learn.python.learn.datasets.base) is deprecated and will be removed in a future version.\n",
      "Instructions for updating:\n",
      "Please write your own downloading logic.\n",
      "WARNING:tensorflow:From /Users/jacobjohn/anaconda3/lib/python3.6/site-packages/tensorflow/contrib/learn/python/learn/datasets/mnist.py:262: extract_images (from tensorflow.contrib.learn.python.learn.datasets.mnist) is deprecated and will be removed in a future version.\n",
      "Instructions for updating:\n",
      "Please use tf.data to implement this functionality.\n",
      "Extracting data/MNIST/train-images-idx3-ubyte.gz\n",
      "WARNING:tensorflow:From /Users/jacobjohn/anaconda3/lib/python3.6/site-packages/tensorflow/contrib/learn/python/learn/datasets/mnist.py:267: extract_labels (from tensorflow.contrib.learn.python.learn.datasets.mnist) is deprecated and will be removed in a future version.\n",
      "Instructions for updating:\n",
      "Please use tf.data to implement this functionality.\n",
      "Extracting data/MNIST/train-labels-idx1-ubyte.gz\n",
      "WARNING:tensorflow:From /Users/jacobjohn/anaconda3/lib/python3.6/site-packages/tensorflow/contrib/learn/python/learn/datasets/mnist.py:110: dense_to_one_hot (from tensorflow.contrib.learn.python.learn.datasets.mnist) is deprecated and will be removed in a future version.\n",
      "Instructions for updating:\n",
      "Please use tf.one_hot on tensors.\n",
      "Extracting data/MNIST/t10k-images-idx3-ubyte.gz\n",
      "Extracting data/MNIST/t10k-labels-idx1-ubyte.gz\n",
      "WARNING:tensorflow:From /Users/jacobjohn/anaconda3/lib/python3.6/site-packages/tensorflow/contrib/learn/python/learn/datasets/mnist.py:290: DataSet.__init__ (from tensorflow.contrib.learn.python.learn.datasets.mnist) is deprecated and will be removed in a future version.\n",
      "Instructions for updating:\n",
      "Please use alternatives such as official/mnist/dataset.py from tensorflow/models.\n"
     ]
    }
   ],
   "source": [
    "from tensorflow.examples.tutorials.mnist import input_data\n",
    "data = input_data.read_data_sets(\"data/MNIST/\", one_hot=True)"
   ]
  },
  {
   "cell_type": "markdown",
   "metadata": {
    "collapsed": true
   },
   "source": [
    "The MNIST data-set has now been loaded and consists of 70.000 images and associated labels. The data-set is split into 3 mutually exclusive sub-sets."
   ]
  },
  {
   "cell_type": "code",
   "execution_count": 11,
   "metadata": {},
   "outputs": [
    {
     "name": "stdout",
     "output_type": "stream",
     "text": [
      "Size of\n",
      "- Training-set:\t\t55000\n",
      "- Test-set:\t\t10000\n",
      "- Validation-set:\t5000\n"
     ]
    }
   ],
   "source": [
    "print(\"Size of\")\n",
    "print(\"- Training-set:\\t\\t{}\".format(len(data.train.labels)))\n",
    "print(\"- Test-set:\\t\\t{}\".format(len(data.test.labels)))\n",
    "print(\"- Validation-set:\\t{}\".format(len(data.validation.labels)))"
   ]
  },
  {
   "cell_type": "markdown",
   "metadata": {},
   "source": [
    "The data-set has been loaded as so-called One-Hot encoding. This means the labels have been converted from a single number to a vector whose length equals the number of possible classes. All elements of the vector are zero except for the $i$'th element which is one and means the class is $i$. For example:"
   ]
  },
  {
   "cell_type": "code",
   "execution_count": 12,
   "metadata": {},
   "outputs": [
    {
     "data": {
      "text/plain": [
       "array([[0., 0., 0., 0., 0., 0., 0., 1., 0., 0.]])"
      ]
     },
     "execution_count": 12,
     "metadata": {},
     "output_type": "execute_result"
    }
   ],
   "source": [
    "data.test.labels[0:1, :]"
   ]
  },
  {
   "cell_type": "markdown",
   "metadata": {
    "collapsed": true
   },
   "source": [
    "We also need the classes as single numbers for various comparisons and performance measures, so we convert the One-Hot encoded vectors to a single number by taking the index of the highest element. Note that the word 'class' is a keyword used in Python so we need to use the name 'cls' instead."
   ]
  },
  {
   "cell_type": "code",
   "execution_count": 13,
   "metadata": {},
   "outputs": [
    {
     "data": {
      "text/plain": [
       "array([7])"
      ]
     },
     "execution_count": 13,
     "metadata": {},
     "output_type": "execute_result"
    }
   ],
   "source": [
    "data.test.cls = np.array([label.argmax() for label in data.test.labels])\n",
    "# example\n",
    "data.test.cls[0:1]"
   ]
  },
  {
   "cell_type": "markdown",
   "metadata": {},
   "source": [
    "### Data dimensions\n",
    "The data dimensions are used in several places in the source-code below. In computer programming it is generally best to use variables and constants rather than having to hard-code specific numbers every time that number is used. This means the numbers only have to be changed in one single place. Ideally these would be inferred from the data that has been read, but here we just write the numbers."
   ]
  },
  {
   "cell_type": "code",
   "execution_count": 14,
   "metadata": {},
   "outputs": [],
   "source": [
    "# We know that MNIST images are 28 pixels in each dimension.\n",
    "img_size = 28\n",
    "\n",
    "# Images are stored in one-dimensional arrays of this length.\n",
    "img_size_flat = img_size * img_size\n",
    "\n",
    "# Tuple with height and width of images used to reshape arrays.\n",
    "img_shape = (img_size, img_size)\n",
    "\n",
    "# Number of classes, one class for each of 10 digits.\n",
    "num_classes = 10"
   ]
  },
  {
   "cell_type": "markdown",
   "metadata": {},
   "source": [
    "### Helper-function for plotting images\n",
    "Function used to plot 9 images in a 3x3 grid, and writing the true and predicted classes below each image."
   ]
  },
  {
   "cell_type": "code",
   "execution_count": 15,
   "metadata": {},
   "outputs": [],
   "source": [
    "def plot_images(images, cls_true, cls_pred=None): \n",
    "    u.plot_images(images=images, cls_true=cls_true, cls_pred=cls_pred, img_size=img_size, img_shape=img_shape)"
   ]
  },
  {
   "cell_type": "markdown",
   "metadata": {},
   "source": [
    "### Some plotted images from the data set"
   ]
  },
  {
   "cell_type": "code",
   "execution_count": 16,
   "metadata": {},
   "outputs": [
    {
     "data": {
      "image/png": "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\n",
      "text/plain": [
       "<Figure size 432x288 with 9 Axes>"
      ]
     },
     "metadata": {},
     "output_type": "display_data"
    }
   ],
   "source": [
    "# Get the first images from the test-set.\n",
    "images = data.test.images[0:9]\n",
    "\n",
    "# Get the true classes for those images.\n",
    "cls_true = data.test.cls[0:9]\n",
    "\n",
    "# Plot the images and labels using our helper-function above.\n",
    "plot_images(images=images, cls_true=cls_true)"
   ]
  },
  {
   "cell_type": "markdown",
   "metadata": {},
   "source": [
    "## TensorFlow Graph\n",
    "The entire purpose of TensorFlow is to have a so-called computational graph that can be executed much more efficiently than if the same calculations were to be performed directly in Python. TensorFlow can be more efficient than NumPy because TensorFlow knows the entire computation graph that must be executed, while NumPy only knows the computation of a single mathematical operation at a time.\n",
    "\n",
    "TensorFlow can also automatically calculate the gradients that are needed to optimize the variables of the graph so as to make the model perform better. This is because the graph is a combination of simple mathematical expressions so the gradient of the entire graph can be calculated using the chain-rule for derivatives.\n",
    "\n",
    "A TensorFlow graph consists of the following parts which will be detailed below:\n",
    "- Placeholder variables used to change the input to the graph.\n",
    "- Model variables that are going to be optimized so as to make the model perform better.\n",
    "- The model which is essentially just a mathematical function that calculates some output given the input in the placeholder variables and the model variables.\n",
    "- A cost measure that can be used to guide the optimization of the variables.\n",
    "- An optimization method which updates the variables of the model.\n",
    "\n",
    "### Placeholder variables\n",
    "Placeholder variables serve as the input to the graph that we may change each time we execute the graph. We call this *feeding the placeholder variables* and it is demonstrated further below.\n",
    "First we define the placeholder variable for the input images. This allows us to change the images that are input to the TensorFlow graph. This is a so-called $tensor$, which just means that it is a multi-dimensional vector or matrix. The data-type is set to float32 and the shape is set to [None, img_size_flat], where *None* means that the tensor may hold an arbitrary number of images with each image being a vector of length *img_size_flat*."
   ]
  },
  {
   "cell_type": "code",
   "execution_count": 17,
   "metadata": {},
   "outputs": [],
   "source": [
    "x = tf.placeholder(tf.float32, [None, img_size_flat])"
   ]
  },
  {
   "cell_type": "markdown",
   "metadata": {
    "collapsed": true
   },
   "source": [
    "Next we have the placeholder variable for the true labels associated with the images that were input in the placeholder variable x. The shape of this placeholder variable is [None, num_classes] which means it may hold an arbitrary number of labels and each label is a vector of length num_classes which is 10 in this case."
   ]
  },
  {
   "cell_type": "code",
   "execution_count": 18,
   "metadata": {},
   "outputs": [],
   "source": [
    "y_true = tf.placeholder(tf.float32, [None, num_classes])"
   ]
  },
  {
   "cell_type": "markdown",
   "metadata": {},
   "source": [
    "Finally we have the placeholder variable for the true class of each image in the placeholder variable x. These are integers and the dimensionality of this placeholder variable is set to [None] which means the placeholder variable is a one-dimensional vector of arbitrary length."
   ]
  },
  {
   "cell_type": "code",
   "execution_count": 19,
   "metadata": {},
   "outputs": [],
   "source": [
    "y_true_cls = tf.placeholder(tf.int64, [None])"
   ]
  },
  {
   "cell_type": "markdown",
   "metadata": {},
   "source": [
    "### Variables to be optimized\n",
    "Apart from the placeholder variables that were defined above and which serve as feeding input data into the model, there are also some model variables that must be changed by TensorFlow so as to make the model perform better on the training data.\n",
    "\n",
    "The first variable that must be optimized is called *weights* and is defined here as a $TensorFlow$ variable that must be initialized with zeros and whose shape is [img_size_flat, num_classes], so it is a 2-dimensional $tensor$ (or *matrix*) with *img_size_flat* rows and *num_classes* columns."
   ]
  },
  {
   "cell_type": "code",
   "execution_count": 20,
   "metadata": {},
   "outputs": [],
   "source": [
    "weights = tf.Variable(tf.zeros([img_size_flat, num_classes]))"
   ]
  },
  {
   "cell_type": "markdown",
   "metadata": {},
   "source": [
    "The second variable that must be optimized is called *biases* and is defined as a 1-dimensional $tensor$ (or *vector*) of length *num_classes*."
   ]
  },
  {
   "cell_type": "code",
   "execution_count": 21,
   "metadata": {},
   "outputs": [],
   "source": [
    "biases = tf.Variable(tf.zeros([num_classes]))"
   ]
  },
  {
   "cell_type": "markdown",
   "metadata": {
    "collapsed": true
   },
   "source": [
    "### Model\n",
    "This simple model multiplies the images in the placeholder variable *x* with the *weights* and then adds the *biases*.\n",
    "\n",
    "The result is a matrix of shape [num_images, num_classes] because *x* has shape [num_images, img_size_flat] and *weights* has shape [img_size_flat, num_classes], so the multiplication of those two matrices is a matrix with shape [num_images, num_classes] and then the *biases* vector is added to each row of that matrix.\n",
    "\n",
    "The name *logits* is typical $TensorFlow$ terminology."
   ]
  },
  {
   "cell_type": "code",
   "execution_count": 22,
   "metadata": {},
   "outputs": [],
   "source": [
    "logits = tf.matmul(x, weights) + biases"
   ]
  },
  {
   "cell_type": "markdown",
   "metadata": {},
   "source": [
    "Now *logits* is a matrix with *num_images* rows and *num_classes* columns, where the element of the $i$'th row and $j$'th column is an estimate of how likely the $i$'th input image is to be of the $j$'th class.\n",
    "\n",
    "However, these estimates are a bit rough and difficult to interpret because the numbers may be very small or large, so we want to normalize them so that each row of the *logits* matrix sums to 1, and each element is limited between 0 and 1. This is calculated using the so-called *softmax* function and the result is stored in *y_pred*."
   ]
  },
  {
   "cell_type": "code",
   "execution_count": 23,
   "metadata": {},
   "outputs": [],
   "source": [
    "y_pred = tf.nn.softmax(logits)"
   ]
  },
  {
   "cell_type": "markdown",
   "metadata": {},
   "source": [
    "The predicted class can be calculated from the *y_pred* matrix by taking the index of the largest element in each row."
   ]
  },
  {
   "cell_type": "code",
   "execution_count": 24,
   "metadata": {},
   "outputs": [
    {
     "name": "stdout",
     "output_type": "stream",
     "text": [
      "WARNING:tensorflow:From <ipython-input-24-1b869074280b>:1: calling argmax (from tensorflow.python.ops.math_ops) with dimension is deprecated and will be removed in a future version.\n",
      "Instructions for updating:\n",
      "Use the `axis` argument instead\n"
     ]
    }
   ],
   "source": [
    "y_pred_cls = tf.argmax(y_pred, dimension=1)"
   ]
  },
  {
   "cell_type": "markdown",
   "metadata": {},
   "source": [
    "### Cost-function to be optimized\n",
    "To make the model better at classifying the input images, we must somehow change the variables for *weights* and *biases*. To do this we first need to know how well the model currently performs by comparing the predicted output of the model *y_pred* to the desired output *y_true*.\n",
    "\n",
    "The **cross-entropy** is a performance measure used in classification. The cross-entropy is a continuous function that is always positive and if the predicted output of the model exactly matches the desired output then the cross-entropy equals zero. The goal of optimization is therefore to minimize the cross-entropy so it gets as close to zero as possible by changing the weights and biases of the model.\n",
    "\n",
    "$TensorFlow$ has a built-in function for calculating the cross-entropy. Note that it uses the values of the *logits* because it also calculates the *softmax* internally."
   ]
  },
  {
   "cell_type": "code",
   "execution_count": 25,
   "metadata": {},
   "outputs": [
    {
     "name": "stdout",
     "output_type": "stream",
     "text": [
      "WARNING:tensorflow:From <ipython-input-25-16a96512157d>:1: softmax_cross_entropy_with_logits (from tensorflow.python.ops.nn_ops) is deprecated and will be removed in a future version.\n",
      "Instructions for updating:\n",
      "\n",
      "Future major versions of TensorFlow will allow gradients to flow\n",
      "into the labels input on backprop by default.\n",
      "\n",
      "See @{tf.nn.softmax_cross_entropy_with_logits_v2}.\n",
      "\n"
     ]
    }
   ],
   "source": [
    "cross_entropy = tf.nn.softmax_cross_entropy_with_logits(logits=logits, labels=y_true)"
   ]
  },
  {
   "cell_type": "markdown",
   "metadata": {},
   "source": [
    "We have now calculated the cross-entropy for each of the image classifications so we have a measure of how well the model performs on each image individually, but in order to use the cross-entropy to guide the optimization of the model's variables we need a single scalar value, so we simply take the average of the cross-entropy for all the image classifications."
   ]
  },
  {
   "cell_type": "code",
   "execution_count": 26,
   "metadata": {},
   "outputs": [],
   "source": [
    "cost = tf.reduce_mean(cross_entropy)"
   ]
  },
  {
   "cell_type": "markdown",
   "metadata": {},
   "source": [
    "### Optimization method\n",
    "Now that we have a cost measure that must be minimized, we can then create an optimizer. In this case it is the basic form of **Gradient Descent** where the *step-size* is set to 0.5.\n",
    "\n",
    "Note that optimization is not performed at this point. In fact, __nothing is calculated at all__, we just add the optimizer-object to the $TensorFlow$ graph for later execution."
   ]
  },
  {
   "cell_type": "code",
   "execution_count": 27,
   "metadata": {},
   "outputs": [],
   "source": [
    "optimizer = tf.train.GradientDescentOptimizer(learning_rate=0.5).minimize(cost)"
   ]
  },
  {
   "cell_type": "markdown",
   "metadata": {},
   "source": [
    "### Performance measures\n",
    "$TensorFlow$ also gives access to performance measures to display the progress to the user.\n",
    "\n",
    "We are defining *correct_prediction* as a vector of booleans whether the predicted class equals the true class of each image, and *accuracy* as the classification accuracy by first type-casting the vector of booleans to floats, so that False becomes 0 and True becomes 1, and then calculating the average of these numbers."
   ]
  },
  {
   "cell_type": "code",
   "execution_count": 28,
   "metadata": {},
   "outputs": [],
   "source": [
    "correct_prediction = tf.equal(y_pred_cls, y_true_cls)\n",
    "accuracy = tf.reduce_mean(tf.cast(correct_prediction, tf.float32))"
   ]
  },
  {
   "cell_type": "markdown",
   "metadata": {},
   "source": [
    "## TensorFlow Run\n",
    "### Create TensorFlow session\n",
    "Once the $TensorFlow$ *graph* has been created, we have to create a $TensorFlow$ *session* which is used to execute the graph."
   ]
  },
  {
   "cell_type": "code",
   "execution_count": 29,
   "metadata": {},
   "outputs": [],
   "source": [
    "session = tf.Session()"
   ]
  },
  {
   "cell_type": "markdown",
   "metadata": {},
   "source": [
    "### Initialize variables\n",
    "The variables for *weights* and *biases* must be initialized before we start optimizing them."
   ]
  },
  {
   "cell_type": "code",
   "execution_count": 30,
   "metadata": {},
   "outputs": [
    {
     "name": "stdout",
     "output_type": "stream",
     "text": [
      "WARNING:tensorflow:From /Users/jacobjohn/anaconda3/lib/python3.6/site-packages/tensorflow/python/util/tf_should_use.py:118: initialize_all_variables (from tensorflow.python.ops.variables) is deprecated and will be removed after 2017-03-02.\n",
      "Instructions for updating:\n",
      "Use `tf.global_variables_initializer` instead.\n"
     ]
    }
   ],
   "source": [
    "session.run(tf.initialize_all_variables())"
   ]
  },
  {
   "cell_type": "markdown",
   "metadata": {},
   "source": [
    "### Helper-function to perform optimization iterations\n",
    "There are 50.000 images in the training-set. It takes a long time to calculate the gradient of the model using all these images. We therefore use **Stochastic Gradient Descent** which only uses a small batch of images in each iteration of the optimizer. \n",
    "\n",
    "This is a function for performing a number of optimization iterations so as to gradually improve the weights and biases of the model. In each iteration, a new batch of data is selected from the training-set and then $TensorFlow$ executes the optimizer using those training samples."
   ]
  },
  {
   "cell_type": "code",
   "execution_count": 31,
   "metadata": {},
   "outputs": [],
   "source": [
    "train_batch_size = 100"
   ]
  },
  {
   "cell_type": "code",
   "execution_count": 32,
   "metadata": {},
   "outputs": [],
   "source": [
    "def optimize(num_iterations):\n",
    "    for i in range(num_iterations):\n",
    "        # Get a batch of training examples.\n",
    "        # x_batch now holds a batch of images and\n",
    "        # y_true_batch are the true labels for those images.\n",
    "        x_batch, y_true_batch = data.train.next_batch(train_batch_size)\n",
    "        \n",
    "        # Put the batch into a dict with the proper names\n",
    "        # for placeholder variables in the TensorFlow graph.\n",
    "        # Note that the placeholder for y_true_cls is not set\n",
    "        # because it is not used during training.\n",
    "        feed_dict_train = {x: x_batch,\n",
    "                           y_true: y_true_batch}\n",
    "\n",
    "        # Run the optimizer using this batch of training data.\n",
    "        # TensorFlow assigns the variables in feed_dict_train\n",
    "        # to the placeholder variables and then runs the optimizer.\n",
    "        session.run(optimizer, feed_dict=feed_dict_train)"
   ]
  },
  {
   "cell_type": "markdown",
   "metadata": {},
   "source": [
    "### Helper-functions to show performance\n",
    "Dict with the test-set data to be used as input to the $TensorFlow$ graph. Note that we must use the correct names for the placeholder variables in the $TensorFlow$ graph."
   ]
  },
  {
   "cell_type": "code",
   "execution_count": 33,
   "metadata": {},
   "outputs": [],
   "source": [
    "feed_dict_test = {x: data.test.images,\n",
    "                  y_true: data.test.labels,\n",
    "                  y_true_cls: data.test.cls}"
   ]
  },
  {
   "cell_type": "markdown",
   "metadata": {},
   "source": [
    "Helper function for printing the classification accuracy on the test-set. It will also print example errors and confusion matrix if asked. "
   ]
  },
  {
   "cell_type": "code",
   "execution_count": 34,
   "metadata": {},
   "outputs": [],
   "source": [
    "def print_test_accuracy(show_example_errors=False, show_confusion_matrix=False): \n",
    "    u.print_test_accuracy(session=session, data=data, x=x, y_true=y_true, y_pred_cls=y_pred_cls, num_classes=num_classes, \n",
    "                          show_example_errors=show_example_errors, show_confusion_matrix=show_confusion_matrix)"
   ]
  },
  {
   "cell_type": "markdown",
   "metadata": {},
   "source": [
    "### Helper-function to plot the model weights\n",
    "Function for plotting the weights of the model. 10 images are plotted, one for each digit that the model is trained to recognize."
   ]
  },
  {
   "cell_type": "code",
   "execution_count": 35,
   "metadata": {},
   "outputs": [],
   "source": [
    "def plot_weights():\n",
    "    u.plot_weights(session=session, weights=weights, img_shape=img_shape)"
   ]
  },
  {
   "cell_type": "markdown",
   "metadata": {},
   "source": [
    "## Performances before and after learning\n",
    "We will now test everything measuring the performances right now, before any learning process. This is also helpful to understand how the learning goes, and we'll also output the performances at many stages between optimization iteration. "
   ]
  },
  {
   "cell_type": "code",
   "execution_count": 36,
   "metadata": {},
   "outputs": [
    {
     "name": "stdout",
     "output_type": "stream",
     "text": [
      "Accuracy on Test-Set: 9.8% (980 / 10000)\n",
      "Example errors:\n"
     ]
    },
    {
     "data": {
      "image/png": "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\n",
      "text/plain": [
       "<Figure size 432x288 with 9 Axes>"
      ]
     },
     "metadata": {},
     "output_type": "display_data"
    }
   ],
   "source": [
    "print_test_accuracy(show_example_errors=True)"
   ]
  },
  {
   "cell_type": "markdown",
   "metadata": {},
   "source": [
    "The accuracy on the test-set is 9.8%. This is because the model has only been initialized and not optimized at all, so it always predicts that the image shows a zero digit, as demonstrated in the plot below."
   ]
  },
  {
   "cell_type": "markdown",
   "metadata": {},
   "source": [
    "### Performance after 1 optimization iteration\n",
    "Already after a single optimization iteration, the model has increased its accuracy on the test-set to 40.7% up from 9.8%. This means that it mis-classifies the images about 6 out of 10 times, as demonstrated on a few examples below."
   ]
  },
  {
   "cell_type": "code",
   "execution_count": 37,
   "metadata": {},
   "outputs": [
    {
     "name": "stdout",
     "output_type": "stream",
     "text": [
      "Accuracy on Test-Set: 24.9% (2494 / 10000)\n",
      "Example errors:\n"
     ]
    },
    {
     "data": {
      "image/png": "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\n",
      "text/plain": [
       "<Figure size 432x288 with 9 Axes>"
      ]
     },
     "metadata": {},
     "output_type": "display_data"
    }
   ],
   "source": [
    "optimize(num_iterations=1)\n",
    "print_test_accuracy(show_example_errors=True)"
   ]
  },
  {
   "cell_type": "markdown",
   "metadata": {},
   "source": [
    "We can also already do something pretty interesting, plotting the weights after only 1 iteration. "
   ]
  },
  {
   "cell_type": "code",
   "execution_count": 38,
   "metadata": {},
   "outputs": [
    {
     "data": {
      "image/png": "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\n",
      "text/plain": [
       "<Figure size 432x288 with 12 Axes>"
      ]
     },
     "metadata": {},
     "output_type": "display_data"
    }
   ],
   "source": [
    "plot_weights()"
   ]
  },
  {
   "cell_type": "markdown",
   "metadata": {},
   "source": [
    "Note that the weights mostly look like the digits they're supposed to recognize. This is because only one optimization iteration has been performed so the weights are only trained on 100 images. After training on several thousand images, the weights become more difficult to interpret because they have to recognize many variations of how digits can be written."
   ]
  },
  {
   "cell_type": "markdown",
   "metadata": {},
   "source": [
    "### Performance after 10 optimization iterations"
   ]
  },
  {
   "cell_type": "code",
   "execution_count": 39,
   "metadata": {},
   "outputs": [
    {
     "name": "stdout",
     "output_type": "stream",
     "text": [
      "Accuracy on Test-Set: 78.1% (7811 / 10000)\n",
      "Example errors:\n"
     ]
    },
    {
     "data": {
      "image/png": "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\n",
      "text/plain": [
       "<Figure size 432x288 with 9 Axes>"
      ]
     },
     "metadata": {},
     "output_type": "display_data"
    }
   ],
   "source": [
    "# We have already performed 1 iteration.\n",
    "optimize(num_iterations=9)\n",
    "print_test_accuracy(show_example_errors=True)"
   ]
  },
  {
   "cell_type": "code",
   "execution_count": 40,
   "metadata": {},
   "outputs": [
    {
     "data": {
      "image/png": "iVBORw0KGgoAAAANSUhEUgAAAWAAAAD5CAYAAAAZf+9zAAAABHNCSVQICAgIfAhkiAAAAAlwSFlzAAALEgAACxIB0t1+/AAAADl0RVh0U29mdHdhcmUAbWF0cGxvdGxpYiB2ZXJzaW9uIDIuMi4zLCBodHRwOi8vbWF0cGxvdGxpYi5vcmcvIxREBQAAIABJREFUeJztnX2cXlV1739rMhmGYTIkk4EJSYhjCCGERANGCBG4EZA3I+W1xSu2lIsWvfTzQWur99bb6kdaadVqW6+iUkur9eWCgBIVBCXyliABQhIgQICRvDAxQzIhQxiTSfb9Y+3fOfvZz5mXJM8z5zmT9f185rOfl33Oc846Z87+7bXXXlucczAMwzBGnrq8D8AwDONgxR7AhmEYOWEPYMMwjJywB7BhGEZO2APYMAwjJ+wBbBiGkRP2ADYMw8gJewAbhmHkhD2ADcMwcqJ+XypPmNDmpkzpqNKh1B4bN3Zi27ZuGcnfNBtXl4PNvgDw9NOPdzvnjhip3zMbD599egBPmdKB229fsa+/UVguuWT+iP+m2bi6HGz2BYDjjpPfjuTvmY2Hzz49gEea/n4t62v6KA1jYHgPh9j9bBDzARuGYeRE1dtitvaNjVr29aXfxeog/C78Pvx8zJjSOmPHlu4/3GesoFnnYCa2Od+HtqG9aPfh9EQOJlUX2qq5WUvaqrdXy9hmoX1iWw32fxB/l7W/g42B7uGs3kbMYPbLw6amgA3DMHLCHsCGYRg5UXXRPZzuVU9Pdl1+zhJIuwns+sVluA/W5Wfjx2s52l0RWW6YN9/Ucs+e0s/ZZQ5tErtzaH/a75BD0rrjxpXWzXJpFJ242zppUvpdQ+9WfdHVqSUN0NWl5fLlpZ8DwNSpWnZ0aDlrlpYzZgAAXtmQ6qLw3gfS/x/e76OVwf6PB6qb5UKIt4ldREB6Px96aOl+RsIlYQrYMAwjJ0ZsEI4tzo4d6XevvaYlxQJb93nztDz7bC3ZagHA5ObXS3a8E00AUqWwdm1ad906LancCNUDVVrRBzRi9Rnai3bp7i6tQ5u0tWlJmwNAS7+qup2NrQBKrxmQKoVwv7Rh3Jspsm157IcdpuWECVo2rHgkrbRkiZYrV2q5bZuWnZ0AgL3+5q6jygWAo47SkkaPZG7b1JnJa/5PxNcvVmlFtjNQPlAeKnx+1tDzO33Bf2xC42SNjtJgvnexecxkLTenVTds0JK25v8Grzt7edWwsSlgwzCMnKhauxmrh9//vrQE0oafdd/xDi1Peatv6dZ2AgBaQoXw2GNaPvooAKDptNO0XLAAANA8/4ykqhchicJmQ0kXHH15WSFYRSAO06Py5XkCqQ342eGHaxn7M1tWPpBu5A1Gm9ZPmlbye02Ne5OqLfX64690a08k9h9nhR/WOrHKZKhjQ/cmfbFmTVqZXS5+5u/VPt9tSG4t7gRI1Rnva96gXnrxmoWv415c7Lsv2j3M+5DqMrmnaIulwUy6O+/U8v77tWTXmTfv/PmlJZAo3thw7aLPlnEzjkw+YxUqYV5/jpdU0+9uCtgwDCMnKt5WsvVgC/fGG1pu2aJlKGZZlw3ZscdquatZW6eGDl8xdOz+1k+5Xr269DvvF2q5776k6tWf+QwAYPMWbWeee04/pxrksdAPChRDPcQ+X7bQPB+25EAqzPgZJ7LQDZlENBwbNO9eErw+XpXviof0Y9qmrS1ttydNaio5hkjMFZrYp97KeyO8YXjznneelm95CwCgkfLpmGO0pMGBcke59w/vGq/3fffa8qq0L3+am+7erWXRok6O8Glr6nr9mM4Kf9KMGqFvHcDOe+/V0r9vo2yOu7Bh149q2PvZdzW2AEivZX0QBUFly3uWtmaZNcmrUs8JU8CGYRg5UXG9x1aDbhqOoHPUMWw52PKwIWMD1tr7ir5YsaJ8oz/4Ay3ZLHH0mc6ysJn6+c8BAO2nngoAeGNqa0kVqvJw91QYRVDCjO2Nfb/hIDFf0zz0yfP60FWG82ekG3nbcr+0E0VdqLB5GeJY4cGodbUWR4okvr+e0hF1AID3k/OkNvXpPcaeAMsdW9JN5s7VkmMRic/Z/++Ecca8BqFfOPi5smnjJcdbBHgz0VA8eBoHQNPpp2u5eLF+4Md9aPtfLa0L32pd71N+ZLl+x54g/7/nzEnrxj3ieL5A1lTnStnYFLBhGEZOVEznxT4pQuXLljxUSJwIxMautft5fbHS+4OefVbLd74z3YjBwfSpvfqq38Yr4e3b07oPP6ylH4HuOPscANkz7IpEPEobK9UwDpivYz8xlUCiRpcuTTfyPY/J3q+5aNFCAMA99+jXoRrj/tnToR8/PlYqb6B2Y1cHiqcOXb4A0hsXwKpO9S3SdckhiDg+OisMOLnvm3fpCz+e0TznbUndOEaVQnHiRC2zlFitxWBnJSKqg4964APB+2o57tB73tVl+7ntNi2/e72W7N3x+tANDwDXXKPakrYIAyRiuH38XIh7c2HPrVI2NgVsGIaRE/YANgzDyImKuyBi4hCPLBdE2g32nnL2LThaEfQfnljJNuMkAMCc9+i7Bs4TDUeIHvLxU3ffDQCo89+ddMUVvkLTwCdUgwyUBzV2+2TVYbdq927ty7a1qdGT8aS//dtkmy7vzpnk+9GH3qguCEb8hVGB7BJzP3EID38/nIdQq8T2Zde0Aeoi2OUnpITzMDhHgB6wu+7ixVDf29ix6mcI73vut6XRux54v3uj1fXtTOr29ZVOcKFdGd45nBy4eRN203m8W3v0/3i3nxq80d9HD3l7+vFzAMmcK2zbxtHll3w5HQDQ0aE337velW7zthnehrxYjfog2jxxNoB0EBoon67PZxbv7ayBeQtDMwzDKDgVU8BsEZioJR58odo9Ilg3lHWS5CZUr9zIO+ZXbWhNtqHioGhgVBoHitq7bk9/gPuL5236EZMpJ5wJoDQxR60MXAyHeKosbR+qraHCZS5cpIHwKynhAFDgXentxgEmjtNRGQBpyFQcuhMnVSmCXePEUbxt1q5tAJB0pErC/NjJWr+ekmpTyT77+1UBhwO+NPXsqVGkv5dgu+rLe2a070CrvNSyfcMQuXhKOgeOeW9xoPf++7cFtZ7yJf9R1aazZqny/epX9dOFL/9Xuskn/AA8LyIH789VBczrBpQ/duKB5DD9aqUxBWwYhpETFVfAcRKWKVO0bB/nfTIrUgdaA+OZ2Cwylun88wEAT3Srz+2mm9Lf+c53tGQIFhUW1d+FWc1VPEfXh7e1+4Du7dsbBj+5GiFWOZxWHKsgTtAAUtPu3v1GybZJJNUttwAAngi+S0SKj5P6wQ/0LS9X1mSaOL1lPImhGv6zasPzpWKlOzFUT1u2+DBIsAfBREU6RkE7h75a7vf5Lg1hmzkjcjoGxD58hp/xfi+afXlsFKZh1Gj4ORA4aeGnK3uf7zt9WOpvlntbX3ONlt//frJFt7/xk2nLixYBSCNTOccrhLPGSfxsqcYEIlPAhmEYOVG1tpIKqP0I30ot9Y5ETq4AUhlL3v1uAMATXj3ccIN+fMcdYQJmjoCqav3Wt7Q1HDNGHTgX/p8Tyw+CTrsXXtCSQ/aJLCmGAh6KeIQcCPOT7Ckpx4/3Di8v514J9tPBFz5a5DY/83PHDlV7RxyRJpYZKMolVgu1rMoGIg7MZ7lly+tBLRqYyrfFl2rfOCoESK/JHXdo+cEPqg6a7OfHhmqZonigabJZiWJqmbinPNCqz6kdAeDtAIBjj9VER/TF46qrAAA9vlu8K9giuf3YBfe9ud3byn83mk2ecSzVwxSwYRhGTlT8Gc9WJEkowqBRDnNmZeb2cwhfmaqRDF/5tH6cKt/lQWUqDso8dYQ+9ZQm7HimZ3JSczZfMFCW/qA4SLXgxPHAWUsSAYxPVZ3AZCT9n7sVQOmN0OHLb6/QKbE7dtBDrKokK3lRrB4GilmOt68l4gVfeU60ZxpinhV4zeQxetedeKKGpnAKcnjO7JDRP5wkXZ+n9g2XgOKtSn8/yzg2NbRvEZPgc6EGntc735kmTOf1oKu3dcUv9IU/6fGUsGHKz7POKv3MG+Xii/Utoy2AtEfC6QaxOq/mY8IUsGEYRk5UfCYcfVR1nd5XSycWm/1QnvmRSTY9S76rbznqnvp7Xwh+yS9XhCMRQsU9e0bgCWLTRinA7Cf0CyUSIfU31Voik8GgC51RDxxRDk2cngf9luoEmz9flYFPf4Qw38wiX/59ch24rdopazR4INVQJHvGyjFeMICiatasick2vb36OvbN8lbjeYexw1S+8cpEVMKhAua1pUKMF4hk7GpoXx5LRlBF7gx1n9B+Qb6jpLeWZKjs8N0KSmKecJAm9JWe0IecxvK2b9BnypVXTk++Y3RLfL3jHoQlZDcMwxhF2APYMAwjJyreMZw8yYfjrPDdf0axh0lyiO86cL0mjtPt3s26fhE3vBxsxCmK7GLoPk45xb8No+Tjfg27KkcfraXvA/YHS0kVoascd9vi1VtDF0Q6KUMHhcaN0xC/C8/WiTG/8d+WpLz18X/3fro0dI37yLJRvD5dEcc32U2lS4A9WnaB06nJ6Tb0ZsU5fus2aGDf5kN0MlGYQ5nT8Xlb8n9m1RrVQ08/ndblNHOWoXsCSMM8d/alWqqoea5DwvOMB0FX+ZzB63q0fMgvHxcm8CEf+5iWH77Iuy79ZI0z3/e+tJLPvxy7y+iK4HRpm4hhGIYxiqi83osHvth8Zc2Z9Ml2qCjSSQMM86EXPMxlyFATDco+9lhNWfnBD/qP7+5Mq1LxHn+8lpxrWKSF3wZhINUZJuDhoM2ECSrNOG7BDCacgtIR7vjP/1zLT1NKjYnKFIZFxRMximxaKp2Z471qYjYiL4lntwVdpqf96NrD0UrHfiftXo62h/KJI2cbN2rpY9VmXfHHAEoH7Py/SFlyI9p5V39dyfdAaQ+oVskKnws/56AjkJqfnel4Ocj16+MeM8DnxN13a1jgh+f7Os+FdZQFH1MFzIXWab/2di2r2aMwBWwYhpET1dMpbNoYC5O1KJxXoj2d+jYN+6DK5VSKMORMX48dqwl7vvIV/XTyBu/NDH3NdMjRmeOnOlNG7Owv5hTkgSY5xCoJSP2YXEj2U5/yX5yl82DZuJ8R7C8N4eEF4fXQpPfhJaTCHmhqLCeH1PpKyECqumbO8OMY93mJxXEFLkoWnkzc/YilXTy7A0hjrE44QUuf7aWhW1NZXtIRxI8li/r5/bzsx0Do+OcFDldqruGp9bF5YkVPwqT3cYgrl4Hs6/utr8GJ9GFqA7UpVWwCf5DjQEh73lzTgSbn/VDNe9gUsGEYRk5UPB1lmfMvXlKWjhYgyQk3Y4GOZjJnMlNpLFt2UtnvzJqlaszn4cAFZ/uJF7f6yRqh0qDsi3Ik7p2k05V3+NHNIkyTzYLia7BjptjinJemFQ/oC+9AY9+ijr0DAMuWaTlunF6HHTtYq7Hs9/g6XnV5qETwtUjZ1F32puhsZIVwlkBsfBpg/XotGb4QSjzOTz71VC0prej8Df9HGBLBe5ihGsy4xB5myXHMRC0RKkfeF/EyWnGC+TBqhJchVb5MVckJQhwjCidf6DOFU4+TXgzDVoLrEadOjaMuaGr29iqJKWDDMIycqJjeS9RD7NSJ/bDhkKJv0ui/vfLKkwGECcZV7TLXBpDk7UnEbTJEykDMpMlDWS5AKl8qXrZsRVG9sV91oCiIUGxxFD2x13e8uvLXYzYV1KWXJttwiSaKrh07NNShsVHLww9P9x+nW4yVTK0Tql4e++YtqkvaI4fl1gcfBAC0vhBMjT9dk0CVZV7nfc6FZc89t2ybJ3p0OmyyaEGb3yZMKsNRe16nOPM9yyT7FVDfXXooeRPej8lCpD70qZ290jnTSrZJe8OpEmUayu5unf69ezeVr/p+x42bkGzzgQ9omdz3K/2FZkTUmDSip6XLT8hPoqN0CbQ45roamAI2DMPICXsAG4Zh5MQBdb7DLg6nvG7q1hCYyex3cMCBXbKwv89AdM9MXdwCn/qUuiKYnzPJggRg9lTveO8p7fPuPU0DqcIMUOPH6+qyTc3a7eGUQoaXxIslFwVGIPG42VXi9Qgjkmi7lnq/Jh/Db97/fi3Z7fLr8AFAv195mpdw3LiWkqpjg3kxsceJ7zlWxPW0atXNk3VcPOZkDrLv3nN+Q39wkx3JwTYamjetX00k6UsHN9le6h4/tpcM7mz3BxPGYDFGii4GHjD9Fv5iczo/UDuuB1JiY54PZ1/5L+v886GjQydFhC4IVuU9xax/XV2l92V433P7pnWrSg+Gi8HRlwmkDwJ/DbuiwbesjHOVwhSwYRhGTlT8mU5xMHmWb7FjmZZV+de/1vLRRwEAdT7G7Jw5Xj2Hkyu6SqXW3gW6ikbWir2JMjy0NDCdjXDRlC+VDccPOBjGMRsq47DHEIzNAAD2Lr4QAFDHSvGgDlJxRTHHTkxWFBb3H+fDpUquVeVLwuOLV5dOTtzLqWm8D8OBZA6yXXSRlt5oexu198UEU2HPjNeRJqfQTli8OH0dL9VLucyL4K/jtm2oWUoUOW3Hm4mG8badPkf/OacHcYxnXNQBAHj9iiNL9hdH4IURr63dfmBtQ3dpJdqNNzeAXfV6rfhc4LMkXhW5GpgCNgzDyIkD0iehegj9ggDwSre2KtPYKrHlDmNS6FyhD4atI1dOZmB6KFU5o8A3T2wFuatwRWA2svT5xqFSta7OYni8tHW8+gLVaDgJgq+f36DXg/aaN08nuSRhQQGMrOIlo/DjtqHSiH9zTJSvp0g2po+xqVGnIu+F2qyOivSyy7QMs914ObapXsOoHrxLP/7lL7WkmgpFM68X7UjltXixTqBonbpz4IOMnO5boSFT4X1fa4Tn3kJHLR27vKn4z8kJExkpC1qiRfpa6ejlPjuDH+L+aFwa2/dU+P8AlEcOsmc5Er04U8CGYRg5UbFnOxtmtiYUCS/1a0sznT6XUJ6xMv1odJi9+KKWlFdJNDWSlnFTr46AsgHN8ucOlBy8aL5fEk9y4HnRrZWVhjD01wKpmmXnYtIk9Y+Hl2Vym6ri/jn6He1IZRBOyYx9v7FaKNKacBxdf+MN1SVplMyRJe8feiiNOOAsZZZPPsmZHRy30LoiaUIpqmJeG9qOU22PPjpVZ5MmaU+FeXuYzD3J0ePLWot8CAmPbWuv3lOtdHzHc9lJ1oJ2jA557LHSHXO2UVbXz6vknY2lkyuyngHxoYxET9kUsGEYRk5U7dkeT1F9dIu26nv2nFRWJ5lSO++MkvekOwiLrC8NHyzL8x62bFRsA6mz0ULcYqeJ7VN3Ov3gVF+xwCiNbFCVQrcZoyKyiP3Ro8nGkcsx0wd+3HGln82f3+jrhukhB/ebx72I8B7m/wKvG1V64YnDZ+KuUqiI+V2ymoCH3TnWDYzMtAO8dv2RwA57i7H4Hsl72RSwYRhGTlT8GR8r07hhyxhALlPCrJM1Uy1e8iYuQzdQNeP38mSgljkrPSVjg7ujcMjYjmGvI/Yl0/6McAgjXorqTx+MgcYMKNomTky/Y88h7vHR10j7Z7knB/q98PssVVw0wvPjfdhTr77xel/GC81mKdTedaV1mptn+lLfNwZBEM3RfmKVm/U/lEfvzRSwYRhGTtgD2DAMIyeqLroHC+WIu1XMcxtPnAi7MHHSl3i/o2kQaCjic80aPIhD1Whjdo2z3AoDXbODybYhA7nVwtfxd6GbIiYeuIx/52AgdjnEhLYZyP6x2yd0MwzkchjOc2gkMQVsGIaREyPe5u5Pa1PUNdtGmqJOsS4aWWviGZVlODYu4rqDMaaADcMwckKcc8OvLLIFwG+rdzg1x1ucc0eM5A+ajavLQWhfwGw8EuyXjffpAWwYhmFUDnNBGIZh5IQ9gA3DMHJivx/AIvJlEbk+eH+PiNwcvP+SiHx8iH08Mozf6RSRtozPF4nIwn097mD7d4jIahFZJyL/IiKyv/uqFqPAxn8nIutFJCNRZm1QZBuLSJOI/FRE1orI0yJy4/7sp9oU2cZ++7tF5Clv45tEZMzQWw2PA1HAjwBYCAAiUgegDcAJwfcLATw82A6cc/ttFACL+Pv7ydcBfBjAsf7vvMGr50LRbXwXgJMPYPuRoOg2/qJzbhaAEwG8S0TOH2qDHCi6jf/QOfd2AHMAHAHg8gPYVynOuf36AzAZwAb/ei6A/wDwCwATABwCoAdAg//+LwE8BmAVgM8G++j1ZR2ArwF4GsASAD8DcJn/rhPAZwE8AWA1gFkAOgB0AdgIXdz7dG+UNQCeAvDAEMd+FIC1wfv3A/jG/tqiWn9FtnF0Hr1523K029j/xj8D+FDeNh2tNgYwFioq/qhSttnvMHLn3CYR6ReRadDWZRmAKQBOBbAdwCrn3C4ROQeqME8GIAB+IiJnOOceCHZ3iTfUXABHAngWwLeD77udcyeJyEcBfMI5d42I3OQvyhcBQERWAzjXObdRRMb7zyYDuNk5d0F0+FOQLlkA/3qQrLf5UHAbF4LRYmNf933Qh3BNMRpsLCL3+OP6OYDbKmAWAAc+CPcw1KA06rLgPX025/i/J6Et0yyokUNOA3Crc26vc64LwP3R97f78nGo8Qc6lltE5EMAxgB64QcwaJa/t1bj8Ypq4yJRaBuLSD2A7wP4F+fcS4OeaX4U2sbOuXOhPedDAJw52InuCwc6kZK+nblQSb8ewF8AeB1pqyQAPu+c+8Yg+xlqAMyn58EeDHDMzrlrReQUAO8FsFJE5jnnXhtgfxsATA3eTwWwaYhjyIui2rhIFN3G3wTwgnPuK0PUy5Oi2xjOuT4R+QmAPwBw71D1h0MlFPBiAFudc3ucc1sBjId2LZb5OvcAuFpEmgFARKZIuEKh8hCAS0WkTkTaoU7zodgBIFkeUkSOcc496pz7GwDdAI4eaEPn3KsAdojIAh/98McAfjyM38yDQtq4YBTWxiJyA4DDAVw/WL0aoJA2FpFmETnKv64HcAGAtcP4zWFxoA/g1dARzeXRZ9udc90A4Jz7BYDvAVjmfS+3ITCG50dQVboGwDcAPAr1DQ3GXQAuFpGVInI6gC+IhpWtAfAAgKdEZLKI/GyA7T8C4GYA6wC8CPXt1CKFtbGI/KOIbADQJCIbROQzwz7rkaWQNhaRqQD+GsBsAE/4fVwT16sRCmljAIdBfdGroIN2vwNw03BPeihqZiqyiDQ753pFZCKA3wB4l/fxGBXCbFx9zMbVZzTZuJaS6S3xI5INAD5XVIPWOGbj6mM2rj6jxsY1o4ANwzAONiwXhGEYRk7YA9gwDCMn7AFsGIaRE/s0CDdhQpubMqWjSodSe2zc2Ilt27pHNEua2bi6HGz2BYCnn368243gihhm4+GzTw/gKVM6cPvtK/b1NwYkXpI6Xnwva8nqkVwE8ZJL5o/cj3kqbeNaZ6RtXAn7hvcgF5mNl0pnnfHjy7fv6SndhotLjvFJDrcPFdW6jxx3nIzo8kAH2z0M7L+NzQVhGIaRE7UUB5yoh1hN9AbpvKk4DjlEy0MP1XI4ytiWEE+hjVm++WZ5HdqWCo22D6/HUL2Y0Q7Pn+c9c+pOfUGZu9LPWl2zJtmmtaNDX1AeT5qkpf+8fVxg1K6ukjqbdzQBAN54o/T3Dybic866h8eO1ZLXpVafD6aADcMwcsIewIZhGDkx4qI77D7QxbB7t5a/94nk2MVlL24wF8Q4n6qDvTl2l4G0S8LuCLcd7d3k0Maxq4G23rNHyyw3TzxwRHuxTtY1jG3L96OJrPuH91tLvXc9dHZqScNs8Hn/u7vTjehW4A3OHU+dWvo5kF6MGTMAAO3zddByU+NkAKXXbTSxL/dw1n0ZQxOzHBOs6hY/H8hIPCdMARuGYeRExZ/xVATxQBpbF74HUlHAz/ieIoJ0ZaTa4O9EAiEZzwDSFuyoo7SkwNiyRUu2oFmKrojw2MPBCJ4j7cTrQBuvW6fl1CA9PUUb63JbL77QgtfLf5REUuOVrobMakWC9weVVqiUaJu9jTo4VscbkZX5PhiES3bIG5sXgzfscceldfldJAObx5f+zGghHogH0g4B/28Zprdtm5abN5fWA1K78PrEZficaPPrKPOZcthhWrJ3XU0lbArYMAwjJ6r2bI/DP9iiheqBrRAVF2FL9/jj5d9TNLDVWrCg9P1pp6V1+VlTj19taIMexBFTpwFIW8yw5SwytDVVL5DaIPZfMhJq1iwtw15GrBJaG71/k3I5qzIvEp3zR+ikoGlz5gAAXu9vSjZhT6dWQ6gGCoPkqe3YkdaN753du1Xxv/FGK4BwQka6Kjr3P+W/aTnhooGPpaFb793XmyeX/F5fV+kxhiqtSGMcA02+Cu3K247lWh/Z98ILWr74opa7d/8u2BP/CRp8qffpW9+qzt9QAbNnx/8JllP8Mr0Mx6zGuIYpYMMwjJyoeFvJVoL+FPpp6LcJfYGsw1aQvhdGQzz2GFuxp4JfUKW1ZYs6dnt63lny+9Om7k3f0O8WSa06f5D1jUeWHVMR1EM8KkyVy/Pge6C8J8LrQ+Vbt+55AMD0GWnowyt9ahcq1Vb6h7mTUD7EMvY1v7ZhFA3Qwq4KgN5GVSW16r+MVVjsTwzVGf3tsa+ddajasu4r1qGi5j5CpdXWpsqX6vv447UcyF9ZFOIeMc+PtuZ5Aen4BG87blvekwpnE8XdWh23ePnlsb5M/0mamxtLjiWeeMRrWo1ehilgwzCMnKia3ouVL99v3JjW8e5BHH64lmzJ0jhULx9K1vHzczD9qvJZvuUEfskmlM2rV2X9/uxDn95IjHweKPHUSyopKgL6sEJon8Sf21WqEJ7pThefXb26dD9b29R/2xqP8ANpL4Of8T39xA8/rOX69ckm4y/+QNluaonBpsIDpSG9A4118HR5bdrb0234P3CTX9qx1HcJAOnN3NjYAgA4//zSGsceW/o+VMBZEUe1Av/X24/wPVUa13cV2mnc8B96hpe+3ul73o3vBQAsXaof81Z79dW3JJts3Kiv2Rukes5KksTvYn9++FwASmOHJ0woP7f9wRSwYRhGTlRM58WxkoTvmTwkdB9SUNFPRrX87LOsQUdQS9nvjR17EgDg7LP1/Xvf678IQybRDmC3AAAgAElEQVSofOPgZH8QnSv1bRg1UMvEypc2ZRnG8hK29C39W/XF8pUllbe2zQQArFiSbkMT8no8lbjgG/ymrUnd0047Q/dPaREPUXOaER37qP3oB860iu9pKqCsmXD8jCqKp837Mzznn/6Uv/Oc/4Sl3ygZuQf6+nSMo7NT/wfYK/FBJiUzP0mt9d7C40mUL//pOVbA+4Zl+H/MHXhJ3/Bf/wUAOCfO5xkag/vh/jnowW73CSekdZvnAgA2dbytZNN4rCW4hcuSMO0vpoANwzBywh7AhmEYOVGxzspAeTfZK+CAwLx56Xd1a1YBAGb6StsOnw4gHWB49FHtJm/bNiPYo9b5zGf03RVXaNm+XcOpSnwgvruxy3fpev10Uboe2F3MWrWgFmG3hy6TeOCHAxzhAAED+ZOuGAfJvM1b29Q10dGRuhV4zVg1HpyIJ84AwAULfBePo608OMYXsS+esb9aI3ZJ8VToVmAZfsfbju+vv15Lhvk90z8z2Sa9RTlKxlE9TvGORthQPpEmDiusxeRHmauCxJm24pL36auvptv40MZdfmSzwZ9sv3+o1PsL0kPfEQA/1Jw4c1q8S6zhwQf1gyOC1YOuvRYAMPn6Of4Q6kqOn8+u0MNhYWiGYRgFp2IKOE6OwwaNg24smzqfSTdia+crH3+RqluKJTrD7703TU7ynveovPONFlqX3l66rzCRiXe89/t2MA6sDwcESa0NYITEqiceLOKUyYberelGNCLlbJzpyDNv3snJ6yV+QI4RQQ89pCXHTcIwN4YAdXe3+v3oaOic87Wsgw667OxL2/q+DAVdS8Rqk6FMvLezUiWyzsL5u/TFfUu19Ddb1/hUAae0DFCmo6kMQ+MAa7yYBjsY4cSFWhlUzlLle5v1fOp4IryB+E9J5Rt2M/yc4AY+GPzDpj4aJQ2F9ngaiDct4c08I+hV+2fGrv5SPcpdcNC7Gs8GU8CGYRg5UbFnOkN0mhpV8fQ367M9CX+i/FwSxDtFeSZbfFaMOXNmA0hboLe+NXVqckZr69pHSvdHCbJoUbpD32Q11XN6cqlvJ6pW88T+P5ac/UsTt/QFMwUY08eodTq0WHqDhn7du+/W8jvfoZR6zJfq3129enJSt7Pz7SW/TSGTRv+ozWvRRxkz0H3BY2ePKetcpjUzzM/3NH7wAy0XLwZQ2vFIbU3ZWjqdPlTA7/RfMXqKwnHiRC05ASNUvbUW5hdOCGGirfYJ/p+b0p4ZcahMg6nr7Mn+8A7tyTIcjPdcPC0bAI4+WsuFU1/RF9/5jpZZ3V/vD+bjiM+yeGzIkvEYhmGMIiqm/eh/JMkSLWu8D5KyKkxMHbdGvgla168KOPavAUH8NH05ccb3wEG5tVdbTE6/7enRKIh4+aIsn16RiJPHTFv/QvrlPfcAAF6/6y4AaYvbTIng/WqzLkp9wBQfjz2mUmDtWo7Ke/8mUrkVq0RO36TfjH7k8BoWhTj3EMVaVkIprPPyiT0NXgxv3+WfKN//hAlHlvwOVW047fgin6qSQxscvI+X4QmPqVamIGcdB891b73+bya+YK98t/arj5j/3gDwVW87BjD09fH+Y9SI9nBFJibb0G6f/KSmnj2FDyje3MGspa0z9N5fsVTf83rz3uVYiylgwzCMUUTFpyJztLuJDhUq3jvv1DJIytLvVUL96afrB34EtMP7vdiKcSAfAC6/3L+4yu+XzRRHSANnW2ubyoSt0FYwjpvNSuSTtSRKrRJPh8yMr41kSHKqvA7efoxWAIAZM/QafuhD+v7OO1VZ0HcZxnJTiVHhMgaZg9hhApOiEd8DtHMrgiiTLm+AJ5/Ukvf7WWcBAH6xXBVdeBkYu0478rpxtuwFC4L9c38PB359AC1+5YG9baqi6VutJbL+h+LeWn29Rs/wcUEz/uhH6Tb33kuly7EIJi8qtYlz05PXd9xxHgDgk5/0N2AcykKfM9JH00DXm5uG31scsGEYRsGpmAKmnyRpGTj6ft99AIA+n+Mw1GOcpVK/0k9N++EPAQCMmJx50fsApH4hAKj7/N/pi1tvLT0A+nToawYSqdF6muq+DVC1ECcMKoLazSL2sTGE8pVT35t8Nu1PVGq00LFFpyXfX3klAOCfvpK2xVQENOl5KibK1C6QXncy0MysaqiHasFzintDyXGHISP0+cZpFC++GACwztvyqqvSTc48zfvSl/s0q5S+/AH/PwMg7dFx/wyHSJzrek+HYbOVShQzEsTrkzJ7qR+y8DzhS58nFT7sB/xH5j9CGgYxa5Yq31Pe6tXyT0uD2LdOfVtS9zD/qKIN40U640TtQOX87KaADcMwcsIewIZhGDlRsU4Kg6PbJ/juVeplBwA0+rCnncEgHId99vrYpTp2ydgfeU7zpLaGPgPvrvid7wOwV9AUL9wVvmbpd8suRdaKDLU8YSDuUrIbxB4xByuZxxcAzj5bV5+Yfuqp+oF3PWzyIXn33Vb+O/HCF/ydt+ucC5x4YlqXXUiuohFPgw27xkWDoXTsetZt8EH94agw3QV06fjBsZf6dLIK76cw/SzuvVdLf39vmqE5lfu8vaeHMwri+eaM82NCmow83EVwPcQ5eHiP0bPS1/d6UJv2OCp6z8E4OjPT+L0vfcm/4ISYKMlva/OupO6iRbo971UeU5xuuBquSlPAhmEYOVGxtpIt2Ot92pq0UHVSGXjnd2uQljAhnsfKJodK4cUXk6p7fbwN1XMTc1dyxIiDFAD2LjoTQJqPg0qRx8oY8FpWvSHxpIc4BSJZsSJ9na4cO73kfZyIKAxhY4ROPF4Xp+cDUhvGSqyoA5shVPMM8Zp+aJQyEUgH4Wi0t+haZNOnqsLqW6D/DyWrFvuwy83zdbD0Qb+LZBb95s3lB8P7mzLNGzgOrSwKvE/Y2Y2nFb/1renAe2enxqU6x/hHqtffAgDGjdOJW0wBCgAXtP1GXzzpewy0nx+Y53MKSEMnmUmV15u9elsV2TAMYxRScW9RImKZjpC+R8rQMIaJr+OUdGxe6L8JHIl1Xv5NYoT/J/w8RZ/0ZGtjkCjGR7dxeTIqGm4az2IOf7oWidUOj5uNO1UEXelAmquIoo1qlvvwmf5KppJT1bLkNFiuPRcG/XPK+fjx6lPmJeXljlM7FoHYj52sBXaiDxe74Ybkuy7vk229/34AQANDypJQNe15hFkRe3pKJ2dQHbe/8RLKKsfSlj0876hn1SKF+QHl93D8Pswqy1PesEGfA/X1LFX5XnaZfv/x61K/Lm704aiU1F4e/2qdTspaG0x15n1O93pJbwVpys9KrYQcYgrYMAwjJyreVrJV56Dj6tU61fC11zThRZiBkq13V5cqArbcfhYnPnmtd76EfuPIWfTSjHMAAGu83zN0z7W3axkr37iFK4p6YAeBLTXhUkTMMxLaOM6/TkFAgfb441r6wXsAaVIYKmuuZLtrgrbXob32+mWeYrtRCWf5KGvZxllkRcsQTob18RE4+bvf1Rf+JGdfdx0AYGdHmpC9qX5X6Y7pR/60D0l5+eX0B5iPkiEo/iI/s1avBa912LEsgn3j+yJe2om9rRCOX8QLHFMB45Zb0sp8TlxzDQDg+V7tGXP+VhgpRBuyd8gO90hMJjIFbBiGkRMVT8bDkUQqLwYwMKcIk22EddKYP43v6+hQqfpEt/prmqdOS7aZuWgvNwIALPVu4sd8no5wrb047SRbNH5eNP8kj5ctNH1XbLnjpC5AedQDv+PnnL4ctvbsISQh1V4iNHhDtrWlI9SENo5tWesLcIbEuep5T/M+/cndOnJ+4Z/8SbLNVC+pGHjyhO+enHTTTSX7bgq7GHTS+xjivT6ImpE99WEycso8P7X5pa6mkmMKp8cWgYGmScfxwOH38eK5VPuMV0+S4Yepbr0sfmCdKt9ly/Rj2i3sBcf7H8mFTk0BG4Zh5IQ9gA3DMHKi4p1vDnixpIObZTgo1NdHT7uWXAGW3SrWDZNPPdmubcapp2pXjAN57JaHM5G5n6xQK/29YZxQDcLZqRx8a7nzP7X0foarz059EFdfpSNpzNPMLh4T0IWJtwgH37iSCPr9beJneLSGK8rWq8Hr60sHUpOvC+LeySKeLJCE912WZpu78B/+AQCw6JOfBABs8p93+Ys0ia6If/3XZBtvVTT5ss5PJqrzoZS48cak7iMr/IreS/V9HCrFEKmi2TmOrkunIJe+B8rXZotXiI5XHwGAVeN1evdaf8042MzBvaOOSqqWuSjjCU98btiqyIZhGKOIig/CMdSLZTxIEAYzv/pqqQTlABr3xVC2MKwqHGAC0taQoVNhy8YWi2qBx8IyTrpR68ThUAylaecIG2VtuPK0b8ab/FTZJi8nzvQDPVOnqnKdOSNdEQM//7mWS/0IKg2VMd07lgVUMPGU5CIptFgBceIJyy9+Ma3bf/1fAQAu2ah5laf5CRnJUtUcGAouXhMz8/iBtVV+DcSkx3dzun+qP/4/safHe7ia6qwaDPS/FqvQrFVq+D8erwq++TCd7PJiW7oixjr/r8CgAO6PeY7CW5g25nfxMVTTtqaADcMwcqJiz3a2Emyh2TLTTxlPlwWA/n4uGKZND9Utw0yoCMLWkH4ftpiM7skKx2GLFk/EKCpUD5wayx7CzMXe90VDhQqYqphONTrUvR93Jh3kGzem21C10dg0ss8Ws7X+yKRqfbS+XqzSi6LMgPRY6Vdlx4ILSFPUPv10ug0nAbS1abhTf/8HSvYZZ0QFgDd9KOa4H2tJZUdz8/fCY+KxcD88xqKNY8TrF/I9z4vDC+H/c7wSSzyd3mf1LHm2cH/h+BEAzJ2rZdiTjhV17Fc3BWwYhjEKqbgCjlcSZaseJzgJ6wQLlAJIWy+2cGFrxf3FLWfWGk1xoo84wXhRfL+E58MWmuf+/DptR2dSPiRzM5F2QdglOeYYLTkcTDmdDCkjHU32UmPvgoUAUsXdGCiN2MaVWisrD+IxA0J/YZZ/khOA1q5lRI9PqAOVXtu2cdAjGJyAquW5c7W7yHERKt8wVShfUyUXzecbw+OOx2PYWx1sBWLeonFUBL+fPCkdx3hiZam25H7jBFbhZ3EusJGwsSlgwzCMnKj4Mz5u4diqxyuOAmkrN8/nWaZ6YmtIH7DPXw0AaOjyaU98M8gVk+nrYQIeII2ZpPoeDSoNKI9nTpOuq7KaNCNNyTl+/sn+O33f0O0jVf0F2uVjrzlaDKTimNEnfUu15HUJ7TdQ3G9RFVoIlXAcYx52FjhreN06NU5XlzoZu7vnluwr9Gnyf4D7o7rl/0pWLDuvedF8vgMRRxhQkZ4y10dJh6FP/Ode7/+hO/0/NCcBcMwiCG04yS9DPWmSJgOLx5PC5xDHhvjdSD4fTAEbhmHkRNUU8EBKKKsFZwtElcYVWdjqhwnGGxs1MU+sGvg7wepFZcl44vjOoirhgeITqfjDWUT0F6cp9lQd93TqewqNcF/xNeJ3SWLyjO9Gg+Il8bnE9w9tCpStuFUWB03CbeLE3nEy8tD+RUsYtb8k58dQhjCxDuUrHxSs88tfasn0nWE3ww9YTPbjIm3zNXKH93voY47HhEZymSdTwIZhGDlhD2DDMIycqHrHJg4XC7tXTCpDV0OYpT7cNux+0fXA7nDsXA8HMLJW8R1NxN1SDhqFg3RDdavilSuA8m7vYN3f0d41DslyB9Ce7P2++ebQ+4kHUUmWLUe7fcu6+fTphLGpHKGLl3Nh7gIOxoXxqtzG/0BD/V6/C9Wc4XMoXpSdjISr0hSwYRhGToxY+xqHp2URhvcY+86+DIiNlnCmPAjtO5xBZmNoODjW06iasL4+DaXsGz/Zf6bv+/36eo2zztRyGDbvG2Dh9Sz6o+n11cQUsGEYRk6Ic274lUW2APht9Q6n5niLc+6IoatVDrNxdTkI7QuYjUeC/bLxPj2ADcMwjMphLgjDMIycsAewYRhGTtgD2DAMIyf2+wEsIl8WkeuD9/eIyM3B+y+JyMeH2Mcjw/idThFpy/h8kYgs3NfjztjPT0RkzdA1R56i21hElorIcyKy0v8dOfRWI8sosHGDiHxTRJ4XkbUicun+7qtaFNnGIjIuuH9Xiki3iHxlf/aVxYEo4EcALAQAEakD0AbghOD7hQAeHmwHzrkDeYAu4u/vLyJyCYDeISvmR+FtDOADzrl5/u93B7ivalB0G/81gN8552YCmA3g1wewr2pRWBs753YE9+88aHTH7QdwLGU/sF9/0LT+G/zruQD+A8AvAEwAcAiAHgAN/vu/BPAYgFUAPhvso9eXdQC+BuBpAEsA/AzAZf67TgCfBfAEgNUAZgHoANAFYCOAlQBOB3A5gDUAngLwwDCOvxnAQ9Cbds3+2qGaf6PAxksBzM/bjqPcxusBHJa3HUezjYNjONbbWyplm/2eCeec2yQi/SIyDdq6LAMwBcCpALYDWOWc2yUi5/gDPxmAAPiJiJzhnHsg2N0l3lBzARwJ4FkA3w6+73bOnSQiHwXwCefcNSJyk78oXwQAEVkN4Fzn3EYRGe8/mwzgZufcBRmn8DkAXwKwc39tUG1GgY0B4N9FZA+AHwG4wfk7uVYoso35PYDPicgiAC8CuM45t7ky1qkMRbZxxPsB/LCS9/CBDsI9DDUojboseE+fzTn+70loyzQLauSQ0wDc6pzb65zrAnB/9D0l/+NQ4w90LLeIyIcAjAH0wmcZVETmAZjhnLtjeKeZK4W0secDzrm5UNVxOoAPDnqm+VFUG9cDmArgYefcSf64vzjUyeZEUW0ccgWA7w9RZ5840FwQ9O3MhUr69QD+AsDrSFslAfB559w3BtmPDPE7TAW+BwMcs3PuWhE5BcB7AawUkXnOudcG2N+pAN4hIp1+f0eKyFLn3KIhjiMPimpjOOc2+nKHiHwPqmz+c4jjyIOi2vg1aA+OQuJWAP9jiGPIi6LaWH9U5O0A6p1zjw/x+/tEJRTwYgBbnXN7nHNbAYyHPuCW+Tr3ALhaRJoBQESmZIyGPwTgUhGpE5F2qNN8KHYASNavFZFjnHOPOuf+BkA3gKMH2tA593Xn3GTnXAe0RX2+Rh++QEFtLCL1HJEWkbH+HGoy2gQFtbHvCt8V/M5ZAJ4Zxm/mQSFtHPB+VFj9Agf+AF4NHdFcHn223TnXDQDOuV8A+B6AZd73chsCY3h+BF3Hew2AbwB4FOobGoy7AFzsQ0NOB/AFEVktGlL2AICnRGSyiPzsgM4wf4pq40MA3CMiq6CDHxsBfGu4Jz3CFNXGAPBJAJ/xdv4gVFXWIkW2MQD8IarwAK6ZXBAi0uyc6xWRiQB+A+Bd3sdjVAizcfUxG1ef0WTjWsq3v8SPSDYA+FxRDVrjmI2rj9m4+owaG9eMAjYMwzjYsFwQhmEYOWEPYMMwjJzYJx/whAltbsqUjiodSu2xcWMntm3rHirusKKYjStLW1ub67DFBkt4/PHHu10FV8gwG5czXBvv0wN4ypQO3H77iv0/qoJxySXzh65UYczGlaWjowMrVhw89hwOIlLR5YLMxuUM18bmgjAMw8gJewAbhmHkRC3FAaO/P/v9m2+W1x07tvR9fX1pGW6f9d1oJLZfCM+ddeKyt7e87pgxWtLWWfaLPxvtNjaMSmIK2DAMIyfsAWwYhpETI95hDLvJsYthzx4t+/q0ZLc4q2vN79jlbW4ufR9+dsghWo4bV15nNJFlp9jFENfp6dFy9+70M14HQjsOZuPGxn0/XsM42DEFbBiGkRMjpgWpasMBNSqtWKWx7oYNWobqiurrsMO0PPTQ0jptbeV1+Zv8He4/S9ENNpBV6/A833gj/YwKt8unK4l7F7Qx64Wf0S6TJmk5caKWYcw9X0+YULrNeL9YDm1sGEY5poANwzByomoKOFab3d2lnwOp6oqVL1Xstddq2bDikXQjyjNK4M5OLY/grL/xaV1Kt6P8Z16WvdLTUvJ7RVPAsW1Z0p7r1qV1H3pIS9qfZbwtzQoAzm3zr7hKC2P+pgIA5s4dk9Q9+2wt29u1pJ991iwtaVvzERtGOaaADcMwcqLiCpjqbMcOLbdvL/08qy7LRYu0fFuPX4X6xqWlXwDpcP1rXp3RkUypF0otvj7lFC1PPRVA6p+keC6aOqNqpV+Xtt64UcuVK9O6fD1VxSvmzNFyxgwtFyzQ8rTT0m1a+ryN124CAGyacQYAYI1f0e2OYC3p2O/MSRtbtmgZ+4SB4tnbMKqFKWDDMIycqJoC/r1fHDoeSQ+VUOwfbF35K31BRyXl2fw0Y9bO+arG6O+kGpw+fqu+oKwFUlX8uF9J+t3v1t13lR4r9xF+VsuxwjxeKl+eMsuwt0ETUvHSZ7tw20/1xXsXAwBeCfbPpYtpgpm+POff/k0/v/zqpO6SJVry+tJu7PnEU8aB9B4wJWwc7JgCNgzDyImK6bw44Q3jP2O1M7ltV7pRHCJBGcXSy7Zv3tKQbLJ2rZbPPqsl/Z4LFrQCAD73udakbvscL5OXLdPSO0Q7FiwEUK6igWxVXCswWoQl3d9HHaUlIxBoTiA9nz/7My3bb/u/+uK667T0ErUpmAo325fjGVlCQ/mSqhpIIy7e/nYtN2/WcjD/ei33LgxjJDEFbBiGkRP2ADYMw8iJirsgYjipoqV5r77oK8/Gs/mw6QCAcd7z0NT/OgDg0SfV9cDwJwD41re05CAfXR2XXaZlyaAPY7A4X9n/Xt265wEArb5/vLNtWrJJOCW3FggH1MKEOUDavY/dP2FIGQffmm743/ri5pu1/MhHtDzvPADAznkXJtvQ3hcs2qkvvvxlLX0sW3ituX8OuvF6xwOsTIhkGEaKKWDDMIycqPhwSKyEWxo56KZfbO1rSr7r8685qMSELlv7dKowB5nCffq5FInSesc7tLzqKi1bl96eVuYsAcrl9etLD47yLWDMmLKPagaqe6pKTq6gSmZvYHrPE+lG135Fywcf1JIjaN5gH/n3kwEAP7wq3YQJdvo+rdfnkqOP1g9896BhSWrjM/2FWNWm4YE0OY+N77PC0QzjYMcUsGEYRk5UTAFnJbYBgM3b1I9LN2w4T4LbLJzvVfLddwMAWr0MXXj++QCA3t60nbjoIi05N6MJO0t3HGaiYVwWpTSV3Lx5AIDXoUq7JwjbqrXws9CefE1/KhPe1PX4SSg891tuSTe6887SHXrle+ENqnyXL9ePOUUZAK64QstLFvn9XuT9xqx8wglp5fe8BwAw9VOqgBkmSFUeq/b4nAzjYMYUsGEYRk5UbSoyR+yfekpLTg4IFTAnacyfryq5gQqODt7vfhcAcA7nzwJpBpr7fP7EOKs6ZSGQztX1infrHFVpGzpLNy1CCsoQ9ibq4CNLVqzQ8oUXtPz5z5O6Xd4Gkz72MQDA17ouAZBeH6rdcHJFYsJPfxoA0Ov9x+wodLz4YlrZR1MwnWU8kSWO1DAMI8UUsGEYRk5UXJdQ+TAulMrovvu0DBUw/Y6sM50fMBCVcbxhcC7r+GDXrdCpxxR/71ycVqVvdPNurfNcEE8cUpSkMGWpHeO1nDgPmL5uAJP42qf0nOVVv+8UJPua3fub9IduvkV3+/WvAwA6/cct/P7KK9O6vnfy7GP6lllCGUmRlXjH1LBhKKaADcMwcqJqPuB40cfUTZmueX744RrtkEQeUMZytJ3cdlv62ifqeaVXVe2nPqUfU2GHs8BOO03rUDQffriWDIpgjGpWpEEtQxszwqSdISFZa8z7SBJy5ngfI8yuyHJf8gIFr7meJtMbTT72WH3xmc8kVVd1HQkA+PGP9T1tPFByppAi2NowqokpYMMwjJywB7BhGEZOVLwTyN5vvOoup/gefXQ61/e557TkWNvs44/XF7/+tZacRMD5xkDSdV7pB3W4Pllf33L/fnpStct3j9kzZzQbo9wYpVY0aFO6Ip7o0WRCJzF+zE+OAABMnFi6MX1C9L9wOnbou/ETYujXmcwL5GPWfrHyyKRqPLjKwTdGC9LWIeZ6MAzFFLBhGEZOVFyL7NlT+p4q7cQTteQgDZBOKEjE132dWjJxDGOYLr443Wixxpk1eiHX17ctPoLkFVUZRR8HBpkopmhQOcYDnRyz7JunK30svC5IMsRK3Mjb9PkeVbFf/ap+HE7E+O8XNZZuc+65Wl5+uf7eD9K6HLsbaCWUeDDOMIwUU8CGYRg5UbWJGFRCXN6NoWCcAACkU16T9IY33aQlnbZ+muuu6/8q2Wbp0tLfu/hizWG5cqVKuJdfThVwnAycu43EYM0lYR+KWAHTl536Y1Mf7THH6Gv2TPq9b3ZDNJObCe0BALeu1pLhbV4e/2qN7itrDb3DDtMyTudZlEkuhpEHpoANwzByomIKmEoo9vlNmaIlE6lP63wg3ejTS7RktAOHzv/0TwEAO2/4JwDA9delm3CU3c+sTQbxqWanTk0lGNUXF/clVI5FTRTDAAbanPnmmcsoXBWZs7rpe6ffnfug/71h3TPpRlxm2Svfb35XE7Mz1STtBwTToiNif3WomrMmZRjGwYgpYMMwjJyomg+YfkmKqWn1m/TFD4Ih9GXLtGSsqvcB/wpn6tur9GOGpQKp8o1jeanEwnBWqi9GPcSZK4umfHk+9OfSd82Sapf+3fA7njt7ELTJ3Lm+Ip31AF5qnA0AuPVf9f3jj2vJSIkwtpdREFTFzIHP6xHb3DCMFFPAhmEYOWEPYMMwjJw4oI5h1koS8VpgSdfzySfLKzP26d3vBgB8r1MnEnBJM3ap2W0G0i4tv+PvsMsbLp7B7nfscmAXOp7SW3K8NUhsbx4/B9Q4hrllywbEbNu2x5ftAIDeXh2BpAvnm7e1JnXpwuCg3qWXasnrEE62oeuBtqYng9eDIYCGYZRjCtgwDCMnqrYqMkO8krGdST7RTtasBy+XOIDGbRn2FAb3c1AvnoxA5Tu78aWk7qaO6SV1SLxtLU8WGKyXwd4AQ8sYkvfqq4tURfkAAAZoSURBVBOC2lTDfqaEX9nthRfUkD/8oRo3VP4MY+M8DM4EZ50N5QI72YbHxIkZPLZatrFh5IUpYMMwjJw4IAWctZLEQP5W9HlpxFUVgFTi+pyS047X99MSieedmmH2HMo8Si3+AB2gG7qSqmOOUwVM9UXFS7VWBFWW5ZOOexk0Aad29/cfltTdtu04AAAXMt69Wx24F1+syjcM2yMMLeP08YauV/SFN2DzpNlJXfqF2UuJffJFW3HaMEYSU8CGYRg5UTEfMNUYlU+c6KZ5qiZyqePQeggdhUv81GQ6jmOpB5TOsw2hMqbjEsAbvmrsAy7qRIwscwCpiqViXRysDE37pwtMq1S95hp9T/UcrlbN6eN/dPlefXGLz/Lj5WxrqJqTEJWmzGPOijQxDEMxBWwYhpETFdeAVGlxVATjdhvbFiZ1mzv0NQVv3Qbva6R/N55rm7Vjr3w39Wkca39QdaAEQUUlPh+qV5prctsufRFLfgB/vChygL/6qv9GIyZmzulIK7P7stzLZvrqeR3CDDz+oCb767C1T5WwKV/DGBpTwIZhGDlRcU3YGK1mQyVE8RS6cCnUUrU0rWRfzc2qasOZcEzoztlfb/SU7qvoKncwYiVP5ZvESdMIoZ+dlZn4iOEQ3JgRJuyiAGk4BS8W3zMAmCuvZhwUr2WGCDcMI8IUsGEYRk7YA9gwDCMnqtZhj10B8YARUNqTBdKVHQYbPIuj2AaaAHIwEHfzX+tXl83Et5ycfMaJEeg4CQDQ2rhT33tfwev1uk1L/9Z0R96PtKteB9Ti1S260rku6UoXnft3DoZxMGMK2DAMIyeqrhdjRWrrgVUP2nr79oHrdCcTJrRMexutZXXjELKDqXdhGCOBKWDDMIycEOfc8CuLbAHw2+odTs3xFufcEUNXqxxm48pyENpzOFTU5mbjTIZl4316ABuGYRiVw1wQhmEYOWEPYMMwjJzY7wewiHxZRK4P3t8jIjcH778kIh8fYh+PDON3OkWkLePzRSKyMGub4SAi7xeR1SKySkTuzvqNvBkFNv4jb9+nReQf93c/hjFaORAF/AiAhQAgInUA2gCcEHy/EMDDg+3AObff/9wAFvH39xURqQfwzwDe7Zx7G4BVAK47gGOpFkW28UQAXwBwlnPuBADtInLWARyLYYw6DuQB/DDSf84TAKwBsENEJojIIQCOB/AkAIjIX4rIY14NfZY7EJFeX9aJyNe8UloiIj8TkcuC3/pzEXnCK9ZZItIB4FoAHxORlSJyuohcLiJrROQpEXlgiGMX/3eYiAiAFgCbDsAW1aLINp4O4Hnn3Bb//j4Alx6QNQxjlLHfofXOuU0i0i8i06APiWUApgA4FcB2AKucc7tE5BwAxwI4GfrQ+4mInOGcC/+BLwHQAWAugCMBPAvg28H33c65k0TkowA+4Zy7RkRuAtDrnPsiAIjIagDnOuc2ish4/9lkADc75y6Ijn23iHwEwGoAbwB4AcD/3F9bVIsi2xjAOgB8kG8AcBGAhooYxjBGCQc6CEeFxofDsuA9fY/n+L8nATwBYBb0YRFyGoBbnXN7nXNdAO6Pvr/dl49DHyIDHcstIvIhAGMAfYBlPBggImMBfATAiQAmQ10Q/2vo082FQtrYObcNauMfAngQmi3C0rMbRsCBTi6lj3IutHu8HsBfAHgdqboSAJ93zn1jkP3IEL/j0/RgDwY4ZufctSJyCoD3AlgpIvOcc68NsL95fpsXAUBE/h+ATw1xDHlRVBvDOXcXgLsAQEQ+7PdtGIanEgp4MYCtzrk9zrmtAMZDu8g+AzjuAXC1iDQ
