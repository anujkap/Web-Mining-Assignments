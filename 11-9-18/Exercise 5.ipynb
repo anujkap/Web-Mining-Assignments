{
 "cells": [
  {
   "cell_type": "code",
   "execution_count": 1,
   "metadata": {},
   "outputs": [
    {
     "name": "stdout",
     "output_type": "stream",
     "text": [
      "[[0, 1, 1, 0, 0, 0]\n",
      " [0, 0, 0, 0, 0, 0]\n",
      " [1, 1, 0, 0, 1, 0]\n",
      " [0, 0, 0, 0, 1, 1]\n",
      " [0, 0, 0, 1, 0, 1]\n",
      " [0, 0, 0, 1, 0, 0]]\n"
     ]
    }
   ],
   "source": [
    "#calculating page rank of a given graph\n",
    "import igraph\n",
    "from numpy import *\n",
    "\n",
    "gd = igraph.Graph(directed=True)\n",
    "gd.add_vertices(6) \n",
    "gd.add_edges([(0,1),(0,2),(2,0),(2,1),(2,4),(3,4),(3,5),(4,3),(4,5),(5,3)]) \n",
    "result = gd.get_adjacency()\n",
    "\n",
    "print(gd.get_adjacency())"
   ]
  },
  {
   "cell_type": "code",
   "execution_count": 2,
   "metadata": {},
   "outputs": [],
   "source": [
    "stoc = result\n",
    "sum = [0,0,0,0,0,0]\n",
    "for i in range(6):\n",
    "    for j in range(6):\n",
    "        sum[i] += result[i,j]"
   ]
  },
  {
   "cell_type": "code",
   "execution_count": 3,
   "metadata": {},
   "outputs": [
    {
     "name": "stdout",
     "output_type": "stream",
     "text": [
      "Stochastic matrix is: \n",
      "[[0, 0.5, 0.5, 0, 0, 0]\n",
      " [0.16666666666666666, 0.16666666666666666, 0.16666666666666666, 0.16666666666666666, 0.16666666666666666, 0.16666666666666666]\n",
      " [0.3333333333333333, 0.3333333333333333, 0, 0, 0.3333333333333333, 0]\n",
      " [0, 0, 0, 0, 0.5, 0.5]\n",
      " [0, 0, 0, 0.5, 0, 0.5]\n",
      " [0, 0, 0, 1.0, 0, 0]]\n"
     ]
    }
   ],
   "source": [
    "for i in range(6):\n",
    "    for j in range(6):\n",
    "        if sum[i] == 0:\n",
    "            stoc[i,j] = 1/6\n",
    "        else:\n",
    "            if stoc[i,j] > 0:\n",
    "                stoc[i,j] = stoc[i,j]/sum[i]\n",
    "print(\"Stochastic matrix is: \")\n",
    "print(stoc)"
   ]
  },
  {
   "cell_type": "code",
   "execution_count": 4,
   "metadata": {},
   "outputs": [
    {
     "name": "stdout",
     "output_type": "stream",
     "text": [
      "Transpose is: \n",
      "[[0, 0.16666666666666666, 0.3333333333333333, 0, 0, 0], [0.5, 0.16666666666666666, 0.3333333333333333, 0, 0, 0], [0.5, 0.16666666666666666, 0, 0, 0, 0], [0, 0.16666666666666666, 0, 0, 0.5, 1.0], [0, 0.16666666666666666, 0.3333333333333333, 0.5, 0, 0], [0, 0.16666666666666666, 0, 0.5, 0.5, 0]]\n"
     ]
    }
   ],
   "source": [
    "trans = [[stoc[j][i] for j in range(6)] for i in range(6)]\n",
    "\n",
    "print(\"Transpose is: \")\n",
    "print(trans)"
   ]
  },
  {
   "cell_type": "code",
   "execution_count": 5,
   "metadata": {},
   "outputs": [],
   "source": [
    "d = 0.9\n",
    "n = 6\n",
    "m = 6\n",
    "E = [1] * n\n",
    "rank = [1] * n\n",
    "for i in range(n):\n",
    "    E[i] = [1] * m\n",
    "\n",
    "for it in range(2):\n",
    "    for i in range(n):\n",
    "        for j in range(n):\n",
    "            rank[j] = ((E[i][j])/n)+((1-d)*trans[i][j])*rank[j]"
   ]
  },
  {
   "cell_type": "code",
   "execution_count": 6,
   "metadata": {},
   "outputs": [
    {
     "name": "stdout",
     "output_type": "stream",
     "text": [
      "Page rank of 1 is:  0.16666666666666666\n",
      "Page rank of 2 is:  0.1694915254237288\n",
      "Page rank of 3 is:  0.16666666666666666\n",
      "Page rank of 4 is:  0.17541666666666667\n",
      "Page rank of 5 is:  0.175\n",
      "Page rank of 6 is:  0.16666666666666666\n",
      "\n",
      "Ranks are as follows: \n",
      "P4 >> P5 >> P2 >> P1 >> P3 >> P6 >> "
     ]
    }
   ],
   "source": [
    "for index in range(len(rank)):\n",
    "    print(\"Page rank of\",index+1,\"is: \",rank[index])\n",
    "\n",
    "sort_rank = [i[0] for i in sorted(enumerate(rank), key=lambda x:x[1], reverse = True)]\n",
    "\n",
    "print(\"\\nRanks are as follows: \")\n",
    "for index in sort_rank:\n",
    "    print(\"P\",index+1,\" >> \",end = \"\",sep = \"\")"
   ]
  }
 ],
 "metadata": {
  "kernelspec": {
   "display_name": "Python 3",
   "language": "python",
   "name": "python3"
  },
  "language_info": {
   "codemirror_mode": {
    "name": "ipython",
    "version": 3
   },
   "file_extension": ".py",
   "mimetype": "text/x-python",
   "name": "python",
   "nbconvert_exporter": "python",
   "pygments_lexer": "ipython3",
   "version": "3.6.6"
  }
 },
 "nbformat": 4,
 "nbformat_minor": 2
}
