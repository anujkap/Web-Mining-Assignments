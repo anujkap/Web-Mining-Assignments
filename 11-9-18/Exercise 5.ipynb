{
 "cells": [
  {
   "cell_type": "code",
   "execution_count": 10,
   "metadata": {},
   "outputs": [
    {
     "name": "stdout",
     "output_type": "stream",
     "text": [
      "[[0, 1, 1, 0, 0, 0]\n",
      " [0, 0, 0, 0, 0, 0]\n",
      " [1, 1, 0, 0, 1, 0]\n",
      " [0, 0, 0, 0, 1, 1]\n",
      " [0, 0, 0, 1, 0, 1]\n",
      " [0, 0, 0, 1, 0, 0]]\n"
     ]
    }
   ],
   "source": [
    "#calculating page rank of a given graph\n",
    "import igraph\n",
    "from numpy import *\n",
    "\n",
    "gd = igraph.Graph(directed=True)\n",
    "gd.add_vertices(6) \n",
    "gd.add_edges([(0,1),(0,2),(2,0),(2,1),(2,4),(3,4),(3,5),(4,3),(4,5),(5,3)]) \n",
    "result = gd.get_adjacency()\n",
    "\n",
    "print(gd.get_adjacency())"
   ]
  },
  {
   "cell_type": "code",
   "execution_count": 2,
   "metadata": {},
   "outputs": [],
   "source": [
    "stoc = result\n",
    "sum = [0,0,0,0,0,0]\n",
    "for i in range(6):\n",
    "    for j in range(6):\n",
    "        sum[i] += result[i,j]"
   ]
  },
  {
   "cell_type": "code",
   "execution_count": 3,
   "metadata": {},
   "outputs": [
    {
     "name": "stdout",
     "output_type": "stream",
     "text": [
      "Stochastic matrix is: \n",
      "[[0, 0.5, 0.5, 0, 0, 0]\n",
      " [0.16666666666666666, 0.16666666666666666, 0.16666666666666666, 0.16666666666666666, 0.16666666666666666, 0.16666666666666666]\n",
      " [0.3333333333333333, 0.3333333333333333, 0, 0, 0.3333333333333333, 0]\n",
      " [0, 0, 0, 0, 0.5, 0.5]\n",
      " [0, 0, 0, 0.5, 0, 0.5]\n",
      " [0, 0, 0, 1.0, 0, 0]]\n"
     ]
    }
   ],
   "source": [
    "for i in range(6):\n",
    "    for j in range(6):\n",
    "        if sum[i] == 0:\n",
    "            stoc[i,j] = 1/6\n",
    "        else:\n",
    "            if stoc[i,j] > 0:\n",
    "                stoc[i,j] = stoc[i,j]/sum[i]\n",
    "print(\"Stochastic matrix is: \")\n",
    "print(stoc)"
   ]
  },
  {
   "cell_type": "code",
   "execution_count": 25,
   "metadata": {},
   "outputs": [
    {
     "name": "stdout",
     "output_type": "stream",
     "text": [
      "Transpose is: \n",
      "[[0, 0.16666666666666666, 0.3333333333333333, 0, 0, 0], [0.5, 0.16666666666666666, 0.3333333333333333, 0, 0, 0], [0.5, 0.16666666666666666, 0, 0, 0, 0], [0, 0.16666666666666666, 0, 0, 0.5, 1.0], [0, 0.16666666666666666, 0.3333333333333333, 0.5, 0, 0], [0, 0.16666666666666666, 0, 0.5, 0.5, 0]]\n"
     ]
    }
   ],
   "source": [
    "trans = [[stoc[j][i] for j in range(6)] for i in range(6)]\n",
    "\n",
    "print(\"Transpose is: \")\n",
    "print(trans)"
   ]
  },
  {
   "cell_type": "code",
   "execution_count": 57,
   "metadata": {},
   "outputs": [],
   "source": [
    "d = 0.9\n",
    "n = 6\n",
    "m = 6\n",
    "E = [1] * n\n",
    "rank = [1] * n\n",
    "for i in range(n):\n",
    "    E[i] = [1] * m\n",
    "\n",
    "for it in range(2):\n",
    "    for i in range(n):\n",
    "        for j in range(n):\n",
    "            rank[j] = ((E[i][j])/n)+((1-d)*trans[i][j])*rank[j]"
   ]
  },
  {
   "cell_type": "code",
   "execution_count": 74,
   "metadata": {},
   "outputs": [
    {
     "ename": "SyntaxError",
     "evalue": "invalid syntax (<ipython-input-74-654242bc00a5>, line 8)",
     "output_type": "error",
     "traceback": [
      "\u001b[0;36m  File \u001b[0;32m\"<ipython-input-74-654242bc00a5>\"\u001b[0;36m, line \u001b[0;32m8\u001b[0m\n\u001b[0;31m    print(\"P\":index+1,rank[index],\">>\",end = \"\")\u001b[0m\n\u001b[0m             ^\u001b[0m\n\u001b[0;31mSyntaxError\u001b[0m\u001b[0;31m:\u001b[0m invalid syntax\n"
     ]
    }
   ],
   "source": [
    "for index in range(len(rank)):\n",
    "    print(\"Page rank of\",index+1,\"is: \",rank[index])\n",
    "\n",
    "sort_rank = [i[0] for i in sorted(enumerate(rank), key=lambda x:x[1], reverse = True)]\n",
    "\n",
    "print(\"Ranks are as follows: \")\n",
    "for index in sort_rank:\n",
    "    print(\"P\",index+1,rank[index],\">>\",end = \"\")"
   ]
  },
  {
   "cell_type": "code",
   "execution_count": null,
   "metadata": {},
   "outputs": [],
   "source": []
  }
 ],
 "metadata": {
  "kernelspec": {
   "display_name": "Python 3",
   "language": "python",
   "name": "python3"
  },
  "language_info": {
   "codemirror_mode": {
    "name": "ipython",
    "version": 3
   },
   "file_extension": ".py",
   "mimetype": "text/x-python",
   "name": "python",
   "nbconvert_exporter": "python",
   "pygments_lexer": "ipython3",
   "version": "3.6.6"
  }
 },
 "nbformat": 4,
 "nbformat_minor": 2
}
