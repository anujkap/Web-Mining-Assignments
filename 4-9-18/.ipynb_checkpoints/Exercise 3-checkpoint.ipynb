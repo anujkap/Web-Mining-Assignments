{
 "cells": [
  {
   "cell_type": "code",
   "execution_count": 1,
   "metadata": {},
   "outputs": [
    {
     "name": "stdout",
     "output_type": "stream",
     "text": [
      "                                               Elias               \n",
      "  Num: Unary       : Binary     : Gamma      : Delta      : Goloumb   \n",
      "    0: 0           : 0          : 0          : 0          : 00        \n",
      "    1: 10          : 1          : 100        : 1000       : 01        \n",
      "    2: 110         : 10         : 1100       : 11000      : 010       \n",
      "    3: 1110        : 11         : 1101       : 11001      : 100       \n",
      "    4: 11110       : 100        : 11100      : 11010      : 101       \n",
      "    5: 111110      : 101        : 11101      : 11011      : 1010      \n",
      "    6: 1111110     : 110        : 111010     : 110110     : 1100      \n",
      "    7: 11111110    : 111        : 111011     : 110111     : 1101      \n",
      "    8: 111111110   : 1000       : 111100     : 111000     : 11010     \n",
      "    9: 1111111110  : 1001       : 111101     : 111001     : 11100     \n",
      "   10: 11111111110 : 1010       : 1111010    : 1110010    : 11101     \n"
     ]
    }
   ],
   "source": [
    "##Implement Elias Delta and Elias Gamma and Golomb coding in python\n",
    "from math import log,ceil\n",
    "\n",
    "log2 = lambda x: log(x,2)\n",
    "\n",
    "def binary(x, l = 1):\n",
    "\tfmt = '{0:0%db}'%1\n",
    "\treturn fmt.format(x)\n",
    "\n",
    "def unary(x):\n",
    "\treturn x*'1'+'0'\n",
    "\n",
    "def elias_generic(lencoding, x):\n",
    "\tif x == 0: return '0'\n",
    "\tl = 1+int(log2(x))\n",
    "\ta = x - 2**(int(log2(x)))\n",
    "\tk = int(log2(x))\n",
    "\treturn lencoding(l) + binary(a,k)\n",
    "\n",
    "def golomb(b, x):\n",
    "\tq = int((x) / b)\n",
    "\tr = int((x) % b)\n",
    "\tl = int(ceil(log2(b)))\n",
    "\t#print(q,r,l)\n",
    "\treturn unary(q) + binary(r, l)\n",
    "\n",
    "def elias_gamma(x):\n",
    "    return elias_generic(unary, x)\n",
    "\n",
    "def elias_delta(x):\n",
    "    return elias_generic(elias_gamma,x)\n",
    "\n",
    "print(\"%-46s %-20s\" %\n",
    "      (\" \",\"Elias\"))\n",
    "print(\"%5s: %-11s : %-10s : %-10s : %-10s : %-10s\" %\n",
    "      (\"Num\", \"Unary\", \"Binary\", \"Gamma\", \"Delta\", \"Goloumb\"))\n",
    "for i in range(11):\n",
    "\tprint(\"%5d: %-11s : %-10s : %-10s : %-10s : %-10s\" %\n",
    "\t(i,unary(i),binary(i),elias_gamma(i),elias_delta(i), golomb(3,i)))\n"
   ]
  },
  {
   "cell_type": "code",
   "execution_count": null,
   "metadata": {},
   "outputs": [],
   "source": [
    "#computing TF-IDF\n",
    "def computeTF(wordDict, bow):\n",
    "    tdDict = {}\n",
    "    bowCount = len(bow)\n",
    "    for word,count in wordDict.items():\n",
    "        tfDict[word] = count/float(bowCount)\n",
    "        return tfDict"
   ]
  }
 ],
 "metadata": {
  "kernelspec": {
   "display_name": "Python 3",
   "language": "python",
   "name": "python3"
  },
  "language_info": {
   "codemirror_mode": {
    "name": "ipython",
    "version": 3
   },
   "file_extension": ".py",
   "mimetype": "text/x-python",
   "name": "python",
   "nbconvert_exporter": "python",
   "pygments_lexer": "ipython3",
   "version": "3.6.6"
  }
 },
 "nbformat": 4,
 "nbformat_minor": 2
}
